{
 "cells": [
  {
   "cell_type": "code",
   "execution_count": 192,
   "metadata": {},
   "outputs": [],
   "source": [
    "\n",
    "\n",
    "#virtual database\n",
    "datedb=['20-04-2020','21-04-2020','22-04-2020','23-04-2020','24-04-2020','25-04-2020','26-04-2020','27-04-2020','28-04-2020']\n",
    "\n",
    "locationdb=['san-francisco','tokyo','New delhi','Bangalore','venice','boston','palo alto','helsinki','hamburg']\n",
    "\n",
    "category=['tech','tech','tech','tech/business','tech','tech','tech','tech','tech/business']\n",
    "\n",
    "time=['12:00 AM',\n",
    "'7:00 AM',\n",
    "'7:30 AM',\n",
    "'8:00 AM',\n",
    "'8:00 AM',\n",
    "'8:00 AM',\n",
    "'8:00 AM',\n",
    "'8:30 AM',\n",
    "'8:30 AM']\n",
    "\n",
    "group_name=['Product School Bangalore',\n",
    "'SouJava',\n",
    "'DevOps | CODE Event Series',\n",
    "'DC Cybersecurity Training',\n",
    "'DC Cybersecurity Training',\n",
    "'Software Testing Training Courses (London)',\n",
    "'Agile Toulouse',\n",
    "'Riyadh Women in Machine Learning & Data Science',\n",
    "'Paris Android LiveCode'\n",
    "]\n",
    "\n",
    "events_name=[\n",
    "'Webinar: PM in a Startup Setting by Alexa Product Lead',\n",
    "'Live SouJava- Microservice Patterns - Implemented by Eclipse Microprofile',\n",
    "'enterprise:CODE 2020',\n",
    "'Certified CISO',\n",
    "'Certified Ethical Hacker (CEH)',\n",
    "'A4Q AI & SOFTWARE TESTING',\n",
    "'Agile & Coffee (Blagnac)',\n",
    "'Women in Data Science (WiDS) PSU Riyadh,March 2,2020',\n",
    "'Android Makers Virtual Edition 2020'\n",
    "]\n",
    "\n",
    "links=['https://www.meetup.com/PS-Bangalore/events/270041842/',\n",
    "'https://www.meetup.com/SouJava/events/269602686/',\n",
    "'https://www.meetup.com/DevOps-CODE-Event-Series/events/265114262/',\n",
    "'https://www.meetup.com/washington-dc-cybersecurity-training/events/267226528/',\n",
    "'https://www.meetup.com/washington-dc-cybersecurity-training/events/267226705/',\n",
    "'https://www.meetup.com/Software-Testing-Training-Courses-London/events/268855268/',\n",
    "'https://www.meetup.com/Agile-Toulouse/events/mfddmrybcgbbc/',\n",
    "'https://www.meetup.com/Riyadh-Women-in-Machine-Learning-and-Data-Science/events/jthbqrybcgbbc/',\n",
    "'https://www.meetup.com/Paris-Android-LiveCode/events/269969663/']\n",
    "\n",
    "attendee=['6 Members going',\n",
    "'119 Javeiros going',\n",
    "'10 Mitglieder going',\n",
    "'4 Members going',\n",
    "'3 Members going',\n",
    "'6 Members going',\n",
    "'11 Membres going',\n",
    "'11 Members going',\n",
    "'9 Bugdroids going',\n",
    "]\n"
   ]
  },
  {
   "cell_type": "code",
   "execution_count": 1,
   "metadata": {},
   "outputs": [],
   "source": [
    "dbb={1:['20-04-2020','Bangalore','tech','7 PM','Product School Bangalore',\n",
    "          'Webinar: PM in a Startup Setting by Alexa Product Lead',\n",
    "         'https://www.meetup.com/PS-Bangalore/events/270041842/',\n",
    "         '6 Members going'],\n",
    "    2:['22-04-2020','san-francisco','tech/business','12 PM','tech AI lead group',\n",
    "          'Webinar:AI and AWS',\n",
    "         'https://www.meetup.com/SouJava/events/269602686/',\n",
    "         '18 Members going']}"
   ]
  },
  {
   "cell_type": "code",
   "execution_count": 9,
   "metadata": {},
   "outputs": [
    {
     "data": {
      "text/plain": [
       "True"
      ]
     },
     "execution_count": 9,
     "metadata": {},
     "output_type": "execute_result"
    }
   ],
   "source": [
    "len(datedb)==len(locationdb)==len(time)==len(group_name)==len(events_name)"
   ]
  },
  {
   "cell_type": "code",
   "execution_count": 2,
   "metadata": {},
   "outputs": [
    {
     "name": "stdout",
     "output_type": "stream",
     "text": [
      "{'events': [{'date': '20-04-2020', 'location': 'Bangalore', 'ids': 'dict_keys([1, 2])'}, {'date': '22-04-2020', 'location': 'san-francisco', 'ids': 'dict_keys([1, 2])'}]}\n",
      "dict_keys([1, 2])\n"
     ]
    }
   ],
   "source": [
    "import graphene\n",
    "\n",
    "class Events(graphene.ObjectType):\n",
    "    date=graphene.String()\n",
    "    location=graphene.String()\n",
    "    category=graphene.String()\n",
    "    time=graphene.String()\n",
    "    group=graphene.String()\n",
    "    evname=graphene.String()\n",
    "    link=graphene.String()\n",
    "    attendee=graphene.String()\n",
    "    ids=graphene.ID()\n",
    "    \n",
    "    \n",
    "    \n",
    "class Query(graphene.ObjectType):\n",
    "    events=graphene.List(Events)\n",
    "    \n",
    "    def resolve_events(self,info,*args,**kwargs):\n",
    "        arr1=[]\n",
    "        \n",
    "        for item in dbb.values():\n",
    "            \n",
    "            arr1.append(Events(date=str(item[0]),\n",
    "                              location=str(item[1]),\n",
    "                              category=str(item[2]),\n",
    "                              time=str(item[3]),\n",
    "                              group=str(item[4]),\n",
    "                              evname=str(item[5]),\n",
    "                              link=str(item[6]),\n",
    "                              attendee=str(item[7]),\n",
    "                              ids=dbb.keys()\n",
    "                              \n",
    "                               \n",
    "                               \n",
    "                              )\n",
    "                       )\n",
    "        return arr1\n",
    "        \n",
    "        \n",
    "    \n",
    "    \n",
    "schema = graphene.Schema(query=Query)\n",
    "result=schema.execute('query{events{date,location,ids}}')\n",
    "\n",
    "print(result.data)\n",
    "print(dbb.keys())\n",
    "    \n",
    "    "
   ]
  }
 ],
 "metadata": {
  "kernelspec": {
   "display_name": "Python 3",
   "language": "python",
   "name": "python3"
  },
  "language_info": {
   "codemirror_mode": {
    "name": "ipython",
    "version": 3
   },
   "file_extension": ".py",
   "mimetype": "text/x-python",
   "name": "python",
   "nbconvert_exporter": "python",
   "pygments_lexer": "ipython3",
   "version": "3.7.3"
  }
 },
 "nbformat": 4,
 "nbformat_minor": 2
}
